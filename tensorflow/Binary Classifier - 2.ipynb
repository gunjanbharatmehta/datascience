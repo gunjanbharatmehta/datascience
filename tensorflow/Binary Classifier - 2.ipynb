{
 "cells": [
  {
   "cell_type": "code",
   "execution_count": 1,
   "source": [
    "import os\r\n",
    "import zipfile\r\n",
    "import random\r\n",
    "import shutil\r\n",
    "import tensorflow as tf\r\n",
    "from tensorflow.keras.optimizers import RMSprop\r\n",
    "from tensorflow.keras.preprocessing.image import ImageDataGenerator\r\n",
    "from shutil import copyfile\r\n",
    "from os import getcwd"
   ],
   "outputs": [],
   "metadata": {
    "colab": {},
    "colab_type": "code",
    "id": "dn-6c02VmqiN"
   }
  },
  {
   "cell_type": "code",
   "execution_count": 2,
   "source": [
    "path_cats_and_dogs = f\"{getcwd()}/../tmp2/cats-and-dogs.zip\"\r\n",
    "shutil.rmtree('/tmp')\r\n",
    "\r\n",
    "local_zip = path_cats_and_dogs\r\n",
    "zip_ref = zipfile.ZipFile(local_zip, 'r')\r\n",
    "zip_ref.extractall('/tmp')\r\n",
    "zip_ref.close()"
   ],
   "outputs": [],
   "metadata": {
    "colab": {},
    "colab_type": "code",
    "id": "3sd9dQWa23aj"
   }
  },
  {
   "cell_type": "code",
   "execution_count": 3,
   "source": [
    "print(len(os.listdir('/tmp/PetImages/Cat/')))\r\n",
    "print(len(os.listdir('/tmp/PetImages/Dog/')))"
   ],
   "outputs": [
    {
     "output_type": "stream",
     "name": "stdout",
     "text": [
      "1500\n",
      "1500\n"
     ]
    }
   ],
   "metadata": {
    "colab": {},
    "colab_type": "code",
    "id": "gi3yD62a6X3S"
   }
  },
  {
   "cell_type": "code",
   "execution_count": 5,
   "source": [
    "try:\r\n",
    "    os.mkdir('/tmp/cats-v-dogs')\r\n",
    "    os.mkdir('/tmp/cats-v-dogs/training')\r\n",
    "    os.mkdir('/tmp/cats-v-dogs/training/cats')\r\n",
    "    os.mkdir('/tmp/cats-v-dogs/training/dogs')\r\n",
    "    os.mkdir('/tmp/cats-v-dogs/testing')\r\n",
    "    os.mkdir('/tmp/cats-v-dogs/testing/cats')\r\n",
    "    os.mkdir('/tmp/cats-v-dogs/testing/dogs')\r\n",
    "except OSError:\r\n",
    "    pass"
   ],
   "outputs": [],
   "metadata": {
    "colab": {},
    "colab_type": "code",
    "id": "F-QkLjxpmyK2"
   }
  },
  {
   "cell_type": "code",
   "execution_count": 6,
   "source": [
    "def split_data(SOURCE, TRAINING, TESTING, SPLIT_SIZE):\r\n",
    "    all_files = []\r\n",
    "    \r\n",
    "    for file_name in os.listdir(SOURCE):\r\n",
    "        file_path = SOURCE + file_name\r\n",
    "\r\n",
    "        if os.path.getsize(file_path):\r\n",
    "            all_files.append(file_name)\r\n",
    "        else:\r\n",
    "            print('{} is zero length, so ignoring'.format(file_name))\r\n",
    "    \r\n",
    "    n_files = len(all_files)\r\n",
    "    split_point = int(n_files * SPLIT_SIZE)\r\n",
    "    \r\n",
    "    shuffled = random.sample(all_files, n_files)\r\n",
    "    \r\n",
    "    train_set = shuffled[:split_point]\r\n",
    "    test_set = shuffled[split_point:]\r\n",
    "    \r\n",
    "    for file_name in train_set:\r\n",
    "        copyfile(SOURCE + file_name, TRAINING + file_name)\r\n",
    "        \r\n",
    "    for file_name in test_set:\r\n",
    "        copyfile(SOURCE + file_name, TESTING + file_name)\r\n",
    "\r\n",
    "CAT_SOURCE_DIR = \"/tmp/PetImages/Cat/\"\r\n",
    "TRAINING_CATS_DIR = \"/tmp/cats-v-dogs/training/cats/\"\r\n",
    "TESTING_CATS_DIR = \"/tmp/cats-v-dogs/testing/cats/\"\r\n",
    "DOG_SOURCE_DIR = \"/tmp/PetImages/Dog/\"\r\n",
    "TRAINING_DOGS_DIR = \"/tmp/cats-v-dogs/training/dogs/\"\r\n",
    "TESTING_DOGS_DIR = \"/tmp/cats-v-dogs/testing/dogs/\"\r\n",
    "\r\n",
    "split_size = .9\r\n",
    "split_data(CAT_SOURCE_DIR, TRAINING_CATS_DIR, TESTING_CATS_DIR, split_size)\r\n",
    "split_data(DOG_SOURCE_DIR, TRAINING_DOGS_DIR, TESTING_DOGS_DIR, split_size)"
   ],
   "outputs": [],
   "metadata": {
    "colab": {},
    "colab_type": "code",
    "id": "zvSODo0f9LaU"
   }
  },
  {
   "cell_type": "code",
   "execution_count": 7,
   "source": [
    "print(len(os.listdir('/tmp/cats-v-dogs/training/cats/')))\r\n",
    "print(len(os.listdir('/tmp/cats-v-dogs/training/dogs/')))\r\n",
    "print(len(os.listdir('/tmp/cats-v-dogs/testing/cats/')))\r\n",
    "print(len(os.listdir('/tmp/cats-v-dogs/testing/dogs/')))"
   ],
   "outputs": [
    {
     "output_type": "stream",
     "name": "stdout",
     "text": [
      "1350\n",
      "1350\n",
      "150\n",
      "150\n"
     ]
    }
   ],
   "metadata": {
    "colab": {},
    "colab_type": "code",
    "id": "luthalB76ufC"
   }
  },
  {
   "cell_type": "code",
   "execution_count": 8,
   "source": [
    "model = tf.keras.models.Sequential([\r\n",
    "tf.keras.layers.Conv2D(16,(3,3) ,activation='relu',input_shape=(150,150,3)), \r\n",
    "tf.keras.layers.MaxPool2D(2,2),   \r\n",
    "#addition the 2nd convolution layers\r\n",
    "tf.keras.layers.Conv2D(32,(3,3) , activation='relu'),\r\n",
    "tf.keras.layers.MaxPool2D(2,2),\r\n",
    "#addition the 3rd convolution layers\r\n",
    "tf.keras.layers.Conv2D(64,(3,3),activation='relu'),\r\n",
    "tf.keras.layers.MaxPool2D(2,2),\r\n",
    "tf.keras.layers.Flatten(),\r\n",
    "tf.keras.layers.Dense(512,activation='relu'),\r\n",
    "tf.keras.layers.Dense(1, activation='sigmoid'), \r\n",
    "])\r\n",
    "\r\n",
    "model.compile(optimizer=RMSprop(lr=0.001), loss='binary_crossentropy', metrics=['acc'])"
   ],
   "outputs": [],
   "metadata": {
    "colab": {},
    "colab_type": "code",
    "id": "-BQrav4anTmj"
   }
  },
  {
   "cell_type": "code",
   "execution_count": 9,
   "source": [
    "TRAINING_DIR = '/tmp/cats-v-dogs/training'\r\n",
    "train_datagen = ImageDataGenerator( rescale = 1.0/255. )\r\n",
    "\r\n",
    "train_generator = train_datagen.flow_from_directory(TRAINING_DIR,\r\n",
    "                                                    batch_size=10,\r\n",
    "                                                    class_mode='binary',\r\n",
    "                                                    target_size=(150, 150))\r\n",
    "\r\n",
    "\r\n",
    "VALIDATION_DIR = '/tmp/cats-v-dogs/testing'\r\n",
    "validation_datagen =  ImageDataGenerator( rescale = 1.0/255. )\r\n",
    "\r\n",
    "validation_generator = train_datagen.flow_from_directory(VALIDATION_DIR,\r\n",
    "                                                    batch_size=10,\r\n",
    "                                                    class_mode='binary',\r\n",
    "                                                    target_size=(150, 150))"
   ],
   "outputs": [
    {
     "output_type": "stream",
     "name": "stdout",
     "text": [
      "Found 2700 images belonging to 2 classes.\n",
      "Found 300 images belonging to 2 classes.\n"
     ]
    }
   ],
   "metadata": {
    "colab": {},
    "colab_type": "code",
    "id": "mlNjoJ5D61N6"
   }
  },
  {
   "cell_type": "code",
   "execution_count": 10,
   "source": [
    "history = model.fit_generator(train_generator,\r\n",
    "                              epochs=2,\r\n",
    "                              verbose=1,\r\n",
    "                              validation_data=validation_generator)\r\n"
   ],
   "outputs": [
    {
     "output_type": "stream",
     "name": "stdout",
     "text": [
      "Epoch 1/2\n",
      "270/270 [==============================] - 35s 130ms/step - loss: 0.8501 - acc: 0.5648 - val_loss: 0.6303 - val_acc: 0.6433\n",
      "Epoch 2/2\n",
      "270/270 [==============================] - 29s 107ms/step - loss: 0.6113 - acc: 0.6704 - val_loss: 0.5780 - val_acc: 0.7133\n"
     ]
    }
   ],
   "metadata": {
    "colab": {},
    "colab_type": "code",
    "id": "KyS4n53w7DxC"
   }
  },
  {
   "cell_type": "code",
   "execution_count": 11,
   "source": [
    "# PLOT LOSS AND ACCURACY\r\n",
    "%matplotlib inline\r\n",
    "\r\n",
    "import matplotlib.image  as mpimg\r\n",
    "import matplotlib.pyplot as plt\r\n",
    "\r\n",
    "#-----------------------------------------------------------\r\n",
    "# Retrieve a list of list results on training and test data\r\n",
    "# sets for each training epoch\r\n",
    "#-----------------------------------------------------------\r\n",
    "acc=history.history['acc']\r\n",
    "val_acc=history.history['val_acc']\r\n",
    "loss=history.history['loss']\r\n",
    "val_loss=history.history['val_loss']\r\n",
    "\r\n",
    "epochs=range(len(acc)) # Get number of epochs\r\n",
    "\r\n",
    "#------------------------------------------------\r\n",
    "# Plot training and validation accuracy per epoch\r\n",
    "#------------------------------------------------\r\n",
    "plt.plot(epochs, acc, 'r', \"Training Accuracy\")\r\n",
    "plt.plot(epochs, val_acc, 'b', \"Validation Accuracy\")\r\n",
    "plt.title('Training and validation accuracy')\r\n",
    "plt.figure()\r\n",
    "\r\n",
    "#------------------------------------------------\r\n",
    "# Plot training and validation loss per epoch\r\n",
    "#------------------------------------------------\r\n",
    "plt.plot(epochs, loss, 'r', \"Training Loss\")\r\n",
    "plt.plot(epochs, val_loss, 'b', \"Validation Loss\")\r\n",
    "\r\n",
    "\r\n",
    "plt.title('Training and validation loss')\r\n",
    "\r\n",
    "# Desired output. Charts with training and validation metrics. No crash :)"
   ],
   "outputs": [
    {
     "output_type": "execute_result",
     "data": {
      "text/plain": [
       "Text(0.5, 1.0, 'Training and validation loss')"
      ]
     },
     "metadata": {},
     "execution_count": 11
    },
    {
     "output_type": "display_data",
     "data": {
      "image/png": "[encoded data removed]",
      "text/plain": [
       "<Figure size 432x288 with 1 Axes>"
      ]
     },
     "metadata": {
      "needs_background": "light"
     }
    },
    {
     "output_type": "display_data",
     "data": {
      "image/png": "[encoded data removed]",
      "text/plain": [
       "<Figure size 432x288 with 1 Axes>"
      ]
     },
     "metadata": {
      "needs_background": "light"
     }
    }
   ],
   "metadata": {
    "colab": {},
    "colab_type": "code",
    "id": "MWZrJN4-65RC"
   }
  }
 ],
 "metadata": {
  "accelerator": "GPU",
  "colab": {
   "collapsed_sections": [],
   "name": "Exercise 6 - Question.ipynb",
   "provenance": []
  },
  "coursera": {
   "course_slug": "convolutional-neural-networks-tensorflow",
   "graded_item_id": "uAPOR",
   "launcher_item_id": "e9lTb"
  },
  "kernelspec": {
   "display_name": "Python 3",
   "language": "python",
   "name": "python3"
  },
  "language_info": {
   "codemirror_mode": {
    "name": "ipython",
    "version": 3
   },
   "file_extension": ".py",
   "mimetype": "text/x-python",
   "name": "python",
   "nbconvert_exporter": "python",
   "pygments_lexer": "ipython3",
   "version": "3.6.8"
  }
 },
 "nbformat": 4,
 "nbformat_minor": 1
}