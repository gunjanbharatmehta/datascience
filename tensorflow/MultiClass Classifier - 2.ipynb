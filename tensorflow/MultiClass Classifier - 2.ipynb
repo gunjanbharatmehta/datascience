{
 "cells": [
  {
   "cell_type": "code",
   "execution_count": 1,
   "source": [
    "import csv\r\n",
    "import numpy as np\r\n",
    "import tensorflow as tf\r\n",
    "from tensorflow.keras.preprocessing.image import ImageDataGenerator\r\n",
    "from os import getcwd"
   ],
   "outputs": [],
   "metadata": {
    "colab": {},
    "colab_type": "code",
    "id": "wYtuKeK0dImp"
   }
  },
  {
   "cell_type": "code",
   "execution_count": 2,
   "source": [
    "def get_data(filename):\r\n",
    "\r\n",
    "    with open(filename) as training_file:\r\n",
    "        csv_reader =csv.reader(training_file, delimiter=',')\r\n",
    "        first_line = True\r\n",
    "        temp_images = []\r\n",
    "        temp_labels = []\r\n",
    "        for row in csv_reader:\r\n",
    "            if first_line:\r\n",
    "                first_line = False\r\n",
    "            else:\r\n",
    "                temp_labels.append(row[0])\r\n",
    "                images_data = row[1:785]\r\n",
    "                images_data_as_array = np.array_split(images_data, 28)\r\n",
    "                temp_images.append(images_data_as_array)\r\n",
    "          \r\n",
    "        images = np.array(temp_images).astype('float')\r\n",
    "        labels = np.array(temp_labels).astype('float')\r\n",
    "      \r\n",
    "    return images, labels\r\n",
    "\r\n",
    "path_sign_mnist_train = f\"{getcwd()}/../tmp2/sign_mnist_train.csv\"\r\n",
    "path_sign_mnist_test = f\"{getcwd()}/../tmp2/sign_mnist_test.csv\"\r\n",
    "training_images, training_labels = get_data(path_sign_mnist_train)\r\n",
    "testing_images, testing_labels = get_data(path_sign_mnist_test)\r\n",
    "\r\n",
    "print(training_images.shape)\r\n",
    "print(training_labels.shape)\r\n",
    "print(testing_images.shape)\r\n",
    "print(testing_labels.shape)\r\n"
   ],
   "outputs": [
    {
     "output_type": "stream",
     "name": "stdout",
     "text": [
      "(27455, 28, 28)\n",
      "(27455,)\n",
      "(7172, 28, 28)\n",
      "(7172,)\n"
     ]
    }
   ],
   "metadata": {
    "colab": {},
    "colab_type": "code",
    "id": "4kxw-_rmcnVu"
   }
  },
  {
   "cell_type": "code",
   "execution_count": 3,
   "source": [
    "training_images = np.expand_dims(training_images,axis=3)\r\n",
    "testing_images = np.expand_dims(testing_images,axis=3)\r\n",
    "\r\n",
    "train_datagen = ImageDataGenerator(\r\n",
    "    rescale=1.0/255.0,\r\n",
    "    rotation_range=40,\r\n",
    "    width_shift_range=0.2,\r\n",
    "    height_shift_range=0.2,\r\n",
    "    shear_range=0.2,\r\n",
    "    zoom_range=0.2,\r\n",
    "    horizontal_flip=True,\r\n",
    "    fill_mode='nearest'\r\n",
    "    )\r\n",
    "\r\n",
    "validation_datagen = ImageDataGenerator(\r\n",
    "     rescale=1.0/255.0)\r\n",
    "    \r\n",
    "print(training_images.shape)\r\n",
    "print(testing_images.shape)"
   ],
   "outputs": [
    {
     "output_type": "stream",
     "name": "stdout",
     "text": [
      "(27455, 28, 28, 1)\n",
      "(7172, 28, 28, 1)\n"
     ]
    }
   ],
   "metadata": {
    "colab": {},
    "colab_type": "code",
    "id": "awoqRpyZdQkD"
   }
  },
  {
   "cell_type": "code",
   "execution_count": 17,
   "source": [
    "model = tf.keras.models.Sequential([\r\n",
    "  tf.keras.layers.Conv2D(16, (3,3), activation='relu', input_shape=(28, 28, 1)),\r\n",
    "    tf.keras.layers.MaxPooling2D(2,2),\r\n",
    "    tf.keras.layers.Conv2D(32, (3,3), activation='relu'),\r\n",
    "    tf.keras.layers.MaxPooling2D(2,2),\r\n",
    "    tf.keras.layers.Conv2D(64, (3,3), activation='relu'),\r\n",
    "    tf.keras.layers.MaxPooling2D(2,2),\r\n",
    "    tf.keras.layers.Flatten(),\r\n",
    "    tf.keras.layers.Dense(512, activation='relu'),\r\n",
    "    tf.keras.layers.Dense(26, activation='softmax')\r\n",
    "]\r\n",
    ")\r\n",
    "# Compile Model. \r\n",
    "model.compile(optimizer='adam', loss ='sparse_categorical_crossentropy', metrics = ['acc'])\r\n",
    "batch_size = 10\r\n",
    "train_generator = train_datagen.flow(training_images, training_labels, batch_size)\r\n",
    "validation_generator = validation_datagen.flow(testing_images,testing_labels,batch_size)\r\n",
    "# # Train the Model\r\n",
    "history = model.fit_generator(train_generator,\r\n",
    "                              steps_per_epoch = len(training_images)/batch_size,\r\n",
    "                              epochs = 2,\r\n",
    "                              validation_data = validation_generator,\r\n",
    "                              validation_steps = len(testing_images)/batch_size)\r\n",
    "\r\n",
    "model.evaluate(testing_images, testing_labels, verbose=0)"
   ],
   "outputs": [
    {
     "output_type": "stream",
     "name": "stdout",
     "text": [
      "Epoch 1/2\n",
      "2746/2745 [==============================] - 125s 46ms/step - loss: 2.6516 - acc: 0.1687 - val_loss: 1.7895 - val_acc: 0.4374\n",
      "Epoch 2/2\n",
      "2746/2745 [==============================] - 128s 47ms/step - loss: 1.9363 - acc: 0.3738 - val_loss: 1.4656 - val_acc: 0.4771\n"
     ]
    },
    {
     "output_type": "execute_result",
     "data": {
      "text/plain": [
       "[227.18957031045755, 0.27830452]"
      ]
     },
     "metadata": {},
     "execution_count": 17
    }
   ],
   "metadata": {
    "colab": {},
    "colab_type": "code",
    "id": "Rmb7S32cgRqS"
   }
  },
  {
   "cell_type": "code",
   "execution_count": 19,
   "source": [
    "# Plot the chart for accuracy and loss on both training and validation\r\n",
    "%matplotlib inline\r\n",
    "import matplotlib.pyplot as plt\r\n",
    "acc = history.history['acc']\r\n",
    "val_acc = history.history['val_acc']\r\n",
    "loss = history.history['loss']\r\n",
    "val_loss = history.history['val_loss']\r\n",
    "epochs = range(len(acc))\r\n",
    "\r\n",
    "plt.plot(epochs, acc, 'r', label='Training accuracy')\r\n",
    "plt.plot(epochs, val_acc, 'b', label='Validation accuracy')\r\n",
    "plt.title('Training and validation accuracy')\r\n",
    "plt.legend()\r\n",
    "plt.figure()\r\n",
    "\r\n",
    "plt.plot(epochs, loss, 'r', label='Training Loss')\r\n",
    "plt.plot(epochs, val_loss, 'b', label='Validation Loss')\r\n",
    "plt.title('Training and validation loss')\r\n",
    "plt.legend()\r\n",
    "\r\n",
    "plt.show()"
   ],
   "outputs": [
    {
     "output_type": "display_data",
     "data": {
      "image/png": "[encoded data removed]",
      "text/plain": [
       "<Figure size 432x288 with 1 Axes>"
      ]
     },
     "metadata": {
      "needs_background": "light"
     }
    },
    {
     "output_type": "display_data",
     "data": {
      "image/png": "[encoded data removed]",
      "text/plain": [
       "<Figure size 432x288 with 1 Axes>"
      ]
     },
     "metadata": {
      "needs_background": "light"
     }
    }
   ],
   "metadata": {
    "colab": {},
    "colab_type": "code",
    "id": "_Q3Zpr46dsij"
   }
  }
 ],
 "metadata": {
  "colab": {
   "name": "Exercise 8 - Question.ipynb",
   "provenance": []
  },
  "coursera": {
   "course_slug": "convolutional-neural-networks-tensorflow",
   "graded_item_id": "8mIh8",
   "launcher_item_id": "gg95t"
  },
  "kernelspec": {
   "display_name": "Python 3",
   "language": "python",
   "name": "python3"
  },
  "language_info": {
   "codemirror_mode": {
    "name": "ipython",
    "version": 3
   },
   "file_extension": ".py",
   "mimetype": "text/x-python",
   "name": "python",
   "nbconvert_exporter": "python",
   "pygments_lexer": "ipython3",
   "version": "3.6.8"
  }
 },
 "nbformat": 4,
 "nbformat_minor": 1
}