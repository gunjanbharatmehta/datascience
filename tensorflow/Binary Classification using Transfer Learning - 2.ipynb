{
  "nbformat": 4,
  "nbformat_minor": 0,
  "metadata": {
    "accelerator": "GPU",
    "colab": {
      "name": "Binary Classification using Transfer Learning - 2.ipynb",
      "provenance": [],
      "collapsed_sections": []
    },
    "kernelspec": {
      "name": "python3",
      "display_name": "Python 3"
    },
    "language_info": {
      "name": "python"
    }
  },
  "cells": [
    {
      "cell_type": "code",
      "metadata": {
        "id": "1xJZ5glPPCRz",
        "colab": {
          "base_uri": "https://localhost:8080/"
        },
        "outputId": "8e5d3b3b-8018-429a-c3d8-6bf138ae0f51"
      },
      "source": [
        "import os\n",
        "\n",
        "from tensorflow.keras import layers\n",
        "from tensorflow.keras import Model\n",
        "\n",
        "!wget --no-check-certificate \\\n",
        "    https://storage.googleapis.com/mledu-datasets/inception_v3_weights_tf_dim_ordering_tf_kernels_notop.h5 \\\n",
        "    -O /tmp/inception_v3_weights_tf_dim_ordering_tf_kernels_notop.h5\n",
        "  \n"
      ],
      "execution_count": null,
      "outputs": [
        {
          "output_type": "stream",
          "name": "stdout",
          "text": [
            "--2021-09-08 18:04:30--  https://storage.googleapis.com/mledu-datasets/inception_v3_weights_tf_dim_ordering_tf_kernels_notop.h5\n",
            "Resolving storage.googleapis.com (storage.googleapis.com)... 173.194.74.128, 209.85.145.128, 172.217.219.128, ...\n",
            "Connecting to storage.googleapis.com (storage.googleapis.com)|173.194.74.128|:443... connected.\n",
            "HTTP request sent, awaiting response... 200 OK\n",
            "Length: 87910968 (84M) [application/x-hdf]\n",
            "Saving to: ‘/tmp/inception_v3_weights_tf_dim_ordering_tf_kernels_notop.h5’\n",
            "\n",
            "/tmp/inception_v3_w 100%[===================>]  83.84M   101MB/s    in 0.8s    \n",
            "\n",
            "2021-09-08 18:04:31 (101 MB/s) - ‘/tmp/inception_v3_weights_tf_dim_ordering_tf_kernels_notop.h5’ saved [87910968/87910968]\n",
            "\n"
          ]
        }
      ]
    },
    {
      "cell_type": "code",
      "metadata": {
        "id": "KsiBCpQ1VvPp",
        "colab": {
          "base_uri": "https://localhost:8080/"
        },
        "outputId": "278b2046-7bf1-4cfc-9e49-177bd94650f4"
      },
      "source": [
        "from tensorflow.keras.applications.inception_v3 import InceptionV3\n",
        "\n",
        "local_weights_file = '/tmp/inception_v3_weights_tf_dim_ordering_tf_kernels_notop.h5'\n",
        "\n",
        "pre_trained_model = InceptionV3(input_shape = (150, 150, 3), \n",
        "                                include_top = False, \n",
        "                                weights = None)\n",
        "\n",
        "pre_trained_model.load_weights(local_weights_file)\n",
        "\n",
        "for layer in pre_trained_model.layers:\n",
        "  layer.trainable = False\n",
        "  \n",
        "# pre_trained_model.summary()\n",
        "\n",
        "last_layer = pre_trained_model.get_layer('mixed7')\n",
        "print('last layer output shape: ', last_layer.output_shape)\n",
        "last_output = last_layer.output"
      ],
      "execution_count": null,
      "outputs": [
        {
          "output_type": "stream",
          "name": "stdout",
          "text": [
            "last layer output shape:  (None, 7, 7, 768)\n"
          ]
        }
      ]
    },
    {
      "cell_type": "code",
      "metadata": {
        "id": "BMXb913pbvFg"
      },
      "source": [
        "from tensorflow.keras.optimizers import RMSprop\n",
        "\n",
        "# Flatten the output layer to 1 dimension\n",
        "x = layers.Flatten()(last_output)\n",
        "# Add a fully connected layer with 1,024 hidden units and ReLU activation\n",
        "x = layers.Dense(1024, activation='relu')(x)\n",
        "# Add a dropout rate of 0.2\n",
        "x = layers.Dropout(0.2)(x)                  \n",
        "# Add a final sigmoid layer for classification\n",
        "x = layers.Dense  (1, activation='sigmoid')(x)           \n",
        "\n",
        "model = Model( pre_trained_model.input, x) \n",
        "\n",
        "model.compile(optimizer = RMSprop(learning_rate=0.0001), \n",
        "              loss = 'binary_crossentropy', \n",
        "              metrics = ['accuracy'])\n"
      ],
      "execution_count": null,
      "outputs": []
    },
    {
      "cell_type": "code",
      "metadata": {
        "id": "O4s8HckqGlnb",
        "colab": {
          "base_uri": "https://localhost:8080/"
        },
        "outputId": "91645875-f79b-4476-bea1-80241d0635f7"
      },
      "source": [
        "!gdown --id 1RL0T7Rg4XqQNRCkjfnLo4goOJQ7XZro9\n",
        "\n",
        "from tensorflow.keras.preprocessing.image import ImageDataGenerator\n",
        "\n",
        "import os\n",
        "import zipfile\n",
        "\n",
        "zip_ref = zipfile.ZipFile(\"./cats_and_dogs_filtered.zip\", 'r')\n",
        "zip_ref.extractall(\"tmp/\")\n",
        "zip_ref.close()\n",
        "\n",
        "# Define our example directories and files\n",
        "base_dir = 'tmp/cats_and_dogs_filtered'\n",
        "\n",
        "train_dir = os.path.join( base_dir, 'train')\n",
        "validation_dir = os.path.join( base_dir, 'validation')\n",
        "\n",
        "\n",
        "train_cats_dir = os.path.join(train_dir, 'cats') # Directory with our training cat pictures\n",
        "train_dogs_dir = os.path.join(train_dir, 'dogs') # Directory with our training dog pictures\n",
        "validation_cats_dir = os.path.join(validation_dir, 'cats') # Directory with our validation cat pictures\n",
        "validation_dogs_dir = os.path.join(validation_dir, 'dogs')# Directory with our validation dog pictures\n",
        "\n",
        "train_cat_fnames = os.listdir(train_cats_dir)\n",
        "train_dog_fnames = os.listdir(train_dogs_dir)\n",
        "\n",
        "# Add our data-augmentation parameters to ImageDataGenerator\n",
        "train_datagen = ImageDataGenerator(rescale = 1./255.,\n",
        "                                   rotation_range = 40,\n",
        "                                   width_shift_range = 0.2,\n",
        "                                   height_shift_range = 0.2,\n",
        "                                   shear_range = 0.2,\n",
        "                                   zoom_range = 0.2,\n",
        "                                   horizontal_flip = True)\n",
        "\n",
        "# Note that the validation data should not be augmented!\n",
        "test_datagen = ImageDataGenerator( rescale = 1.0/255. )\n",
        "\n",
        "# Flow training images in batches of 20 using train_datagen generator\n",
        "train_generator = train_datagen.flow_from_directory(train_dir,\n",
        "                                                    batch_size = 20,\n",
        "                                                    class_mode = 'binary', \n",
        "                                                    target_size = (150, 150))     \n",
        "\n",
        "# Flow validation images in batches of 20 using test_datagen generator\n",
        "validation_generator =  test_datagen.flow_from_directory( validation_dir,\n",
        "                                                          batch_size  = 20,\n",
        "                                                          class_mode  = 'binary', \n",
        "                                                          target_size = (150, 150))"
      ],
      "execution_count": null,
      "outputs": [
        {
          "output_type": "stream",
          "name": "stdout",
          "text": [
            "Downloading...\n",
            "From: https://drive.google.com/uc?id=1RL0T7Rg4XqQNRCkjfnLo4goOJQ7XZro9\n",
            "To: /content/cats_and_dogs_filtered.zip\n",
            "68.6MB [00:00, 147MB/s]\n",
            "Found 2000 images belonging to 2 classes.\n",
            "Found 1000 images belonging to 2 classes.\n"
          ]
        }
      ]
    },
    {
      "cell_type": "code",
      "metadata": {
        "id": "Blhq2MAUeyGA",
        "colab": {
          "base_uri": "https://localhost:8080/"
        },
        "outputId": "78c34c5b-bc9a-4870-8aba-55fd92fdb1f2"
      },
      "source": [
        "history = model.fit(\n",
        "            train_generator,\n",
        "            validation_data = validation_generator,\n",
        "            steps_per_epoch = 100,\n",
        "            epochs = 20,\n",
        "            validation_steps = 50,\n",
        "            verbose = 2)"
      ],
      "execution_count": null,
      "outputs": [
        {
          "output_type": "stream",
          "name": "stdout",
          "text": [
            "Epoch 1/20\n",
            "100/100 - 55s - loss: 0.3935 - accuracy: 0.8510 - val_loss: 0.1545 - val_accuracy: 0.9480\n",
            "Epoch 2/20\n",
            "100/100 - 21s - loss: 0.2138 - accuracy: 0.9150 - val_loss: 0.0987 - val_accuracy: 0.9640\n",
            "Epoch 3/20\n",
            "100/100 - 22s - loss: 0.2185 - accuracy: 0.9200 - val_loss: 0.0930 - val_accuracy: 0.9670\n",
            "Epoch 4/20\n",
            "100/100 - 21s - loss: 0.2041 - accuracy: 0.9260 - val_loss: 0.0888 - val_accuracy: 0.9730\n",
            "Epoch 5/20\n",
            "100/100 - 21s - loss: 0.1963 - accuracy: 0.9315 - val_loss: 0.1503 - val_accuracy: 0.9460\n",
            "Epoch 6/20\n",
            "100/100 - 21s - loss: 0.1943 - accuracy: 0.9330 - val_loss: 0.0953 - val_accuracy: 0.9670\n",
            "Epoch 7/20\n",
            "100/100 - 21s - loss: 0.1723 - accuracy: 0.9400 - val_loss: 0.1260 - val_accuracy: 0.9560\n",
            "Epoch 8/20\n",
            "100/100 - 22s - loss: 0.1573 - accuracy: 0.9465 - val_loss: 0.1170 - val_accuracy: 0.9660\n",
            "Epoch 9/20\n",
            "100/100 - 21s - loss: 0.1568 - accuracy: 0.9455 - val_loss: 0.1044 - val_accuracy: 0.9690\n",
            "Epoch 10/20\n",
            "100/100 - 21s - loss: 0.1542 - accuracy: 0.9465 - val_loss: 0.1169 - val_accuracy: 0.9670\n",
            "Epoch 11/20\n",
            "100/100 - 21s - loss: 0.1618 - accuracy: 0.9490 - val_loss: 0.1234 - val_accuracy: 0.9640\n",
            "Epoch 12/20\n",
            "100/100 - 21s - loss: 0.1300 - accuracy: 0.9500 - val_loss: 0.1993 - val_accuracy: 0.9480\n",
            "Epoch 13/20\n",
            "100/100 - 21s - loss: 0.1449 - accuracy: 0.9550 - val_loss: 0.1643 - val_accuracy: 0.9520\n",
            "Epoch 14/20\n",
            "100/100 - 22s - loss: 0.1209 - accuracy: 0.9625 - val_loss: 0.1347 - val_accuracy: 0.9570\n",
            "Epoch 15/20\n",
            "100/100 - 21s - loss: 0.1291 - accuracy: 0.9530 - val_loss: 0.1308 - val_accuracy: 0.9590\n",
            "Epoch 16/20\n",
            "100/100 - 22s - loss: 0.1059 - accuracy: 0.9590 - val_loss: 0.1480 - val_accuracy: 0.9600\n",
            "Epoch 17/20\n",
            "100/100 - 21s - loss: 0.1654 - accuracy: 0.9500 - val_loss: 0.1476 - val_accuracy: 0.9620\n",
            "Epoch 18/20\n",
            "100/100 - 21s - loss: 0.1387 - accuracy: 0.9525 - val_loss: 0.1274 - val_accuracy: 0.9610\n",
            "Epoch 19/20\n",
            "100/100 - 21s - loss: 0.1275 - accuracy: 0.9570 - val_loss: 0.1233 - val_accuracy: 0.9610\n",
            "Epoch 20/20\n",
            "100/100 - 21s - loss: 0.1290 - accuracy: 0.9555 - val_loss: 0.1041 - val_accuracy: 0.9710\n"
          ]
        }
      ]
    },
    {
      "cell_type": "code",
      "metadata": {
        "id": "C2Fp6Se9rKuL",
        "colab": {
          "base_uri": "https://localhost:8080/",
          "height": 298
        },
        "outputId": "3daed2ad-8801-4fdf-cd59-efa12900c182"
      },
      "source": [
        "import matplotlib.pyplot as plt\n",
        "acc = history.history['accuracy']\n",
        "val_acc = history.history['val_accuracy']\n",
        "loss = history.history['loss']\n",
        "val_loss = history.history['val_loss']\n",
        "\n",
        "epochs = range(len(acc))\n",
        "\n",
        "plt.plot(epochs, acc, 'r', label='Training accuracy')\n",
        "plt.plot(epochs, val_acc, 'b', label='Validation accuracy')\n",
        "plt.title('Training and validation accuracy')\n",
        "plt.legend(loc=0)\n",
        "plt.figure()\n",
        "\n",
        "\n",
        "plt.show()"
      ],
      "execution_count": null,
      "outputs": [
        {
          "output_type": "display_data",
          "data": {
            "image/png": "[encoded data removed]",
            "text/plain": [
              "<Figure size 432x288 with 1 Axes>"
            ]
          },
          "metadata": {
            "needs_background": "light"
          }
        },
        {
          "output_type": "display_data",
          "data": {
            "text/plain": [
              "<Figure size 432x288 with 0 Axes>"
            ]
          },
          "metadata": {}
        }
      ]
    }
  ]
}
